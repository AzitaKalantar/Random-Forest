{
 "cells": [
  {
   "cell_type": "code",
   "execution_count": 1,
   "id": "3a5d8b2d",
   "metadata": {},
   "outputs": [],
   "source": [
    "class Tree :\n",
    "    def __init__(self,data,target,depth):\n",
    "            if depth==0:\n",
    "                self.leaf = True\n",
    "                self.prediction = self.avg(target)\n",
    "            elif len(set(target)) ==1:\n",
    "                self.leaf = True\n",
    "                self.prediction = target[0]\n",
    "            else:\n",
    "                self.leaf = False\n",
    "                self.attr , self.split , self.L , self.R = self.generate(data,target,depth)\n",
    "\n",
    "    def generate(self,data,target,depth):\n",
    "        from sklearn.utils import resample\n",
    "        from math import ceil\n",
    "        import random\n",
    "        opt = float('inf')\n",
    "        p=len(data[0])\n",
    "        random_features = resample(range(p),n_samples=ceil(p/3),replace=False)\n",
    "        for j in random_features: #for each feature j\n",
    "            all_cuts = set( sample[j] for sample in data )\n",
    "            \n",
    "            while len(all_cuts)== 1 : #all samples have the same value for this feature -> we cannot split the data in two groups\n",
    "                f=list(range(p))\n",
    "                f.remove(j)\n",
    "                j=random.choice(f)\n",
    "                all_cuts = set( sample[j] for sample in data )\n",
    "                \n",
    "            all_cuts.remove(max(all_cuts))\n",
    "            for cut in all_cuts:\n",
    "                xl=[];xr=[];yl=[];yr=[];\n",
    "                for i in range(len(data)):\n",
    "                    if data[i][j]<=cut:\n",
    "                        xl.append(data[i])\n",
    "                        yl.append(target[i])\n",
    "                    else:\n",
    "                        xr.append(data[i])\n",
    "                        yr.append(target[i])\n",
    "                        \n",
    "                tmp = self.rss(yl) + self.rss(yr)\n",
    "                if tmp < opt:\n",
    "                    opt , attr , split, XL, XR , YL , YR = tmp , j , cut , xl , xr , yl , yr\n",
    "        return attr , split , Tree(XL,YL,depth-1) , Tree(XR,YR,depth-1)\n",
    "\n",
    "    def avg(self,target):\n",
    "        if len(target) == 0:\n",
    "            return 0\n",
    "        return sum(target)/len(target)\n",
    "\n",
    "    def rss(self,target):\n",
    "        if len(target) == 0:    \n",
    "            return 0\n",
    "        mean = self.avg(target)\n",
    "        return sum([ pow( y-mean , 2.0 ) for y in target ])\n",
    "\n",
    "\n",
    "\n"
   ]
  },
  {
   "cell_type": "code",
   "execution_count": 2,
   "id": "84338244",
   "metadata": {},
   "outputs": [],
   "source": [
    "def print_the_tree(node):\n",
    "    if node.leaf :\n",
    "        print(node.prediction)\n",
    "    else:\n",
    "        print(\"attr and split\",node.attr,node.split)\n",
    "        print_the_tree(node.L)\n",
    "        print_the_tree(node.R)"
   ]
  },
  {
   "cell_type": "code",
   "execution_count": 3,
   "id": "07551849",
   "metadata": {},
   "outputs": [],
   "source": [
    "class RandomForest :\n",
    "\n",
    "    def __init__(self,data,target,BTS_num=100,depth=3):\n",
    "        self.forest = self.generate_random_forest(data,target,depth,BTS_num)\n",
    "        \n",
    "    def generate_BTSs(self,n,data,target):\n",
    "        from sklearn.utils import resample\n",
    "        import numpy as np\n",
    "        import pandas as pd\n",
    "        new = np.c_[np.array(data),np.array(target)]\n",
    "        mydata = pd.DataFrame(data=new,columns = range(len(new[0])))\n",
    "        BTSs=[]\n",
    "        for i in range(n):\n",
    "            samples = mydata.sample(mydata.shape[0], replace=True)\n",
    "            samples = samples.drop_duplicates()\n",
    "            d = samples.iloc[:,0:len(new[0])-1].to_numpy()\n",
    "            t = samples.iloc[:,len(new[0])-1].to_numpy()\n",
    "            BTSs.append((d,t))\n",
    "        return BTSs\n",
    "\n",
    "    def generate_random_forest(self,data,target,depth,BTS_num):\n",
    "        BTSs= self.generate_BTSs(BTS_num,data,target)\n",
    "        trees=[]\n",
    "        for d,t in BTSs:\n",
    "            trees.append(Tree(d,t,depth))\n",
    "        return trees\n",
    "    def predict_single_test_tree(self,test,node):\n",
    "        if node.leaf == True:\n",
    "            return node.prediction\n",
    "        if test[node.attr] <= node.split :\n",
    "            return self.predict_single_test_tree(test,node.L)\n",
    "        else :\n",
    "            return self.predict_single_test_tree(test,node.R)\n",
    "            \n",
    "    def predict(self,data_test):\n",
    "        answers = []\n",
    "        for test in data_test :\n",
    "            summ=0\n",
    "            for tree in self.forest :\n",
    "                summ+= self.predict_single_test_tree(test,tree)\n",
    "            answers.append(summ/len(self.forest))\n",
    "        return answers\n",
    "    def MSE(self,data,target):\n",
    "        import numpy as np\n",
    "        y_hat = self.predict(data)\n",
    "        return ((y_hat - target)**2).mean()"
   ]
  },
  {
   "cell_type": "code",
   "execution_count": 4,
   "id": "5226eaa1",
   "metadata": {},
   "outputs": [],
   "source": [
    "from sklearn.datasets import load_boston\n",
    "boston = load_boston()\n",
    "from sklearn.model_selection import train_test_split\n",
    "X_train,X_test,y_train,y_test = train_test_split(boston.data,boston.target,test_size=0.5,random_state=103)\n",
    "randomForest = RandomForest(X_train,y_train,100,3)"
   ]
  },
  {
   "cell_type": "code",
   "execution_count": 5,
   "id": "1bcb4c31",
   "metadata": {},
   "outputs": [
    {
     "name": "stdout",
     "output_type": "stream",
     "text": [
      "16.160637879388453\n"
     ]
    }
   ],
   "source": [
    "print(randomForest.MSE(X_test,y_test))"
   ]
  },
  {
   "cell_type": "code",
   "execution_count": 6,
   "id": "a4663d41",
   "metadata": {},
   "outputs": [
    {
     "name": "stdout",
     "output_type": "stream",
     "text": [
      "11.654255427817704\n"
     ]
    }
   ],
   "source": [
    "print(randomForest.MSE(X_train,y_train))"
   ]
  },
  {
   "cell_type": "code",
   "execution_count": 7,
   "id": "1be29823",
   "metadata": {},
   "outputs": [],
   "source": [
    "B = [1,2,3,4,5,10 ,20, 40, 60, 80, 100]\n",
    "MSE_test = []\n",
    "MSE_train = []\n",
    "for b in B :\n",
    "    randomForest = RandomForest(X_train,y_train,b,3)\n",
    "    MSE_test.append(randomForest.MSE(X_test,y_test))\n",
    "    MSE_train.append(randomForest.MSE(X_train,y_train))\n",
    "       "
   ]
  },
  {
   "cell_type": "code",
   "execution_count": 8,
   "id": "019aa0d4",
   "metadata": {},
   "outputs": [
    {
     "data": {
      "image/png": "[encoded data removed]",
      "text/plain": [
       "<Figure size 432x288 with 1 Axes>"
      ]
     },
     "metadata": {
      "needs_background": "light"
     },
     "output_type": "display_data"
    }
   ],
   "source": [
    "%matplotlib inline\n",
    "import matplotlib.pyplot as plt\n",
    "a=plt.scatter(B,MSE_train)\n",
    "plt.plot(B,MSE_train)\n",
    "b=plt.scatter(B,MSE_test)\n",
    "plt.plot(B,MSE_test)\n",
    "plt.legend((a,b),('MSE Train', 'MSE Test'))\n",
    "plt.savefig('B.png')\n",
    "plt.show()    "
   ]
  },
  {
   "cell_type": "code",
   "execution_count": 9,
   "id": "b93418be",
   "metadata": {},
   "outputs": [],
   "source": [
    "H = range(2,15)\n",
    "MSE_test2 = []\n",
    "MSE_train2 = []\n",
    "for h in H :\n",
    "    randomForest = RandomForest(X_train,y_train,10,h)\n",
    "    MSE_test2.append(randomForest.MSE(X_test,y_test))\n",
    "    MSE_train2.append(randomForest.MSE(X_train,y_train))"
   ]
  },
  {
   "cell_type": "code",
   "execution_count": 10,
   "id": "80489d6a",
   "metadata": {},
   "outputs": [
    {
     "data": {
      "image/png": "[encoded data removed]",
      "text/plain": [
       "<Figure size 432x288 with 1 Axes>"
      ]
     },
     "metadata": {
      "needs_background": "light"
     },
     "output_type": "display_data"
    }
   ],
   "source": [
    "%matplotlib inline\n",
    "import matplotlib.pyplot as plt\n",
    "a=plt.scatter(H,MSE_train2)\n",
    "plt.plot(H,MSE_train2)\n",
    "b=plt.scatter(H,MSE_test2)\n",
    "plt.plot(H,MSE_test2)\n",
    "plt.legend((a,b),('MSE Train', 'MSE Test'))\n",
    "plt.savefig('H.png')\n",
    "plt.show()  "
   ]
  }
 ],
 "metadata": {
  "kernelspec": {
   "display_name": "Python 3",
   "language": "python",
   "name": "python3"
  },
  "language_info": {
   "codemirror_mode": {
    "name": "ipython",
    "version": 3
   },
   "file_extension": ".py",
   "mimetype": "text/x-python",
   "name": "python",
   "nbconvert_exporter": "python",
   "pygments_lexer": "ipython3",
   "version": "3.8.8"
  }
 },
 "nbformat": 4,
 "nbformat_minor": 5
}
